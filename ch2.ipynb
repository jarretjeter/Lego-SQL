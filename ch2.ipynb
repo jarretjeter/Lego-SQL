{
 "cells": [
  {
   "cell_type": "code",
   "execution_count": 2,
   "metadata": {},
   "outputs": [],
   "source": [
    "from sqlalchemy import create_engine\n",
    "from sqlalchemy import text\n",
    "import pandas as pd\n",
    "## Here I'm importing the necessary tools(methods?) for the assignment\n",
    "\n",
    "connection_method = \"mysql+pymysql\"\n",
    "db_user = \"root\"\n",
    "db_password = \"mysql\"\n",
    "db_host = \"127.0.0.1\"\n",
    "db_port = 3306\n",
    "db_name = \"lego\"\n",
    "## Assign the connection settings of the lego database to variables\n",
    "\n",
    "engine = create_engine(f\"{connection_method}://{db_user}:{db_password}@{db_host}:{db_port}/{db_name}\", future=True)\n",
    "## The create_engine function establishes a connection using the newly created variables and is assigned to a variable named \"engine\""
   ]
  },
  {
   "cell_type": "code",
   "execution_count": 14,
   "metadata": {},
   "outputs": [
    {
     "name": "stdout",
     "output_type": "stream",
     "text": [
      "    id          name     rgb  is_trans\n",
      "0   -1       Unknown  0033B2         0\n",
      "1    0         Black  05131D         0\n",
      "2    1          Blue  0055BF         0\n",
      "3   10  Bright Green  4B9F4A         0\n",
      "4  100  Light Salmon  FEBABD         0\n",
      "       id        name     rgb  is_trans\n",
      "130    86  Dark Flesh  7C503A         0\n",
      "131    89  Royal Blue  4C61DB         0\n",
      "132     9  Light Blue  B4D2E3         0\n",
      "133    92       Flesh  D09168         0\n",
      "134  9999  [No Color]  05131D         0\n",
      "(135, 4)\n"
     ]
    }
   ],
   "source": [
    "with engine.connect() as conn:\n",
    "    colors = pd.read_sql(\"colors\", conn)\n",
    "## The create_engine \"connect\" method will read the colors table of the lego database that it's assigned/connected to using the pandas \"read_sql\" function\n",
    "\n",
    "print(colors.head())\n",
    "print(colors.tail())\n",
    "print(colors.shape)\n",
    "## Pandas functions to read the colors table are printed and returned in a pandas dataframe.\n"
   ]
  },
  {
   "cell_type": "code",
   "execution_count": 15,
   "metadata": {},
   "outputs": [
    {
     "name": "stdout",
     "output_type": "stream",
     "text": [
      "     id                      name     rgb\n",
      "0     1                      Blue  0055BF\n",
      "1  1003  Glitter Trans-Light Blue  68BCC5\n",
      "2  1006    Trans Light Royal Blue  B4D4F7\n",
      "3   112               Blue-Violet  6874CA\n",
      "4   137                Metal Blue  7988A1\n",
      "    id                name     rgb\n",
      "14  43  Trans-Very Lt Blue  C1DFF0\n",
      "15  61         Chrome Blue  6C96BF\n",
      "16  73         Medium Blue  5A93DB\n",
      "17  89          Royal Blue  4C61DB\n",
      "18   9          Light Blue  B4D2E3\n",
      "(19, 3)\n"
     ]
    }
   ],
   "source": [
    "colors_query = \"\"\"\n",
    "SELECT\n",
    "    id, name, rgb\n",
    "FROM\n",
    "    colors\n",
    "WHERE\n",
    "    name LIKE '%Blue%';\n",
    "\"\"\"\n",
    "## Writing a string as a sql query to select only certain columns from the \"colors\" table where the \"name\" column has the string \"Blue\", and assigning that to a variable named \"colors_query\".\n",
    "\n",
    "with engine.connect() as conn:\n",
    "    dfquery = pd.read_sql(text(colors_query), conn)\n",
    "## Call \"read_sql\" with the \"text\" method that tells the engine that \"colors_query\" is a sql query\n",
    "\n",
    "print(dfquery.head())\n",
    "print(dfquery.tail())\n",
    "print(dfquery.shape)\n",
    "## Print out the resulting dataframe of the \"colors_query\""
   ]
  }
 ],
 "metadata": {
  "interpreter": {
   "hash": "161f94e8e5cc001dbcaa2c18da58c8a4ad0a5bba1d19e7a11be7e8f3c6e22be8"
  },
  "kernelspec": {
   "display_name": "Python 3.7.13 ('venv': venv)",
   "language": "python",
   "name": "python3"
  },
  "language_info": {
   "codemirror_mode": {
    "name": "ipython",
    "version": 3
   },
   "file_extension": ".py",
   "mimetype": "text/x-python",
   "name": "python",
   "nbconvert_exporter": "python",
   "pygments_lexer": "ipython3",
   "version": "3.7.13"
  },
  "orig_nbformat": 4
 },
 "nbformat": 4,
 "nbformat_minor": 2
}
